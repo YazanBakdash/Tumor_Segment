{
 "cells": [
  {
   "cell_type": "code",
   "execution_count": null,
   "id": "72bb890d-130d-4f05-917b-d6d408e465da",
   "metadata": {},
   "outputs": [],
   "source": [
    "import matplotlib.pyplot as plt\n",
    "import numpy as np\n",
    "from skimage.transform import resize\n",
    "from dotenv import load_dotenv\n",
    "import os\n",
    "from pathlib import Path\n",
    "import nibabel as nib\n",
    "import torch\n",
    "import torch.nn as nn\n",
    "import torch.nn.functional as F"
   ]
  },
  {
   "cell_type": "code",
   "execution_count": null,
   "id": "c011f188",
   "metadata": {},
   "outputs": [],
   "source": [
    "device = torch.device(\"cuda\" if torch.cuda.is_available() else \"cpu\")\n",
    "print(\"Using device:\", device)"
   ]
  },
  {
   "cell_type": "code",
   "execution_count": 128,
   "id": "fc00fbe1",
   "metadata": {},
   "outputs": [],
   "source": [
    "load_dotenv()\n",
    "data_dir = Path(os.getenv(\"DATA_DIR\"))"
   ]
  },
  {
   "cell_type": "markdown",
   "id": "5b78160f",
   "metadata": {},
   "source": [
    "### U-NET Model"
   ]
  },
  {
   "cell_type": "markdown",
   "id": "b597948f",
   "metadata": {},
   "source": [
    "- Consider adding batchnorm to doubleConv"
   ]
  },
  {
   "cell_type": "code",
   "execution_count": 135,
   "id": "f49d069e",
   "metadata": {},
   "outputs": [],
   "source": [
    "class DoubleConv(nn.Module):\n",
    "    def __init__(self, in_channels, out_channels):\n",
    "        super().__init__()\n",
    "        self.conv1 = nn.Conv2d(in_channels, out_channels, kernel_size=3, padding=1)\n",
    "        self.conv2 = nn.Conv2d(out_channels, out_channels, kernel_size=3, padding=1)\n",
    "    \n",
    "    def forward(self, x):\n",
    "        x = F.relu(self.conv1(x), inplace=True)\n",
    "        x = F.relu(self.conv2(x), inplace=True)\n",
    "        return x"
   ]
  },
  {
   "cell_type": "markdown",
   "id": "446bbc76",
   "metadata": {},
   "source": [
    "- consider adding other encoder layer"
   ]
  },
  {
   "cell_type": "code",
   "execution_count": 136,
   "id": "debe009b",
   "metadata": {},
   "outputs": [],
   "source": [
    "class UNETModel(nn.Module):\n",
    "    def __init__(self, in_channels=1, out_channels=1):\n",
    "        super().__init__()\n",
    "        # Down\n",
    "        self.down1 = DoubleConv(in_channels,64)\n",
    "        self.down2 = DoubleConv(64,128)\n",
    "        self.down3 = DoubleConv(128,256)\n",
    "        self.bottleneck = DoubleConv(256,512)\n",
    "\n",
    "        self.pool = nn.MaxPool2d(2)\n",
    "\n",
    "        # Up\n",
    "        self.up1 = nn.ConvTranspose2d(512, 256, kernel_size=2, stride=2)\n",
    "        self.right1 = DoubleConv(512, 256) # 256 (up) + 256 (encoder3)\n",
    "        self.up2 = nn.ConvTranspose2d(256, 128, kernel_size=2, stride=2)\n",
    "        self.right2 = DoubleConv(256, 128) # 128 (up) + 128 (encoder2)\n",
    "        self.up3 = nn.ConvTranspose2d(128, 64, kernel_size=2, stride=2)\n",
    "        self.right3 = DoubleConv(128, 64) # 64 (up) + 64 (encoder1)\n",
    "\n",
    "        # Out\n",
    "        self.out = nn.Conv2d(64, out_channels, kernel_size=1)\n",
    "    \n",
    "    def forward(self, x):\n",
    "        # Down\n",
    "        encoder1 = self.down1(x)\n",
    "        encoder2 = self.down2(self.pool(encoder1))\n",
    "        encoder3 = self.down3(self.pool(encoder2))\n",
    "\n",
    "        # Bottleneck\n",
    "        bneck = self.bottleneck(self.pool(encoder3))\n",
    "        \n",
    "        # Up\n",
    "        decoder1 = self.up1(bneck)\n",
    "        decoder1 = self.right1(torch.cat([decoder1, encoder3], dim=1))\n",
    "        decoder2 = self.up2(decoder1)\n",
    "        decoder2 = self.right2(torch.cat([decoder2, encoder2], dim=1))\n",
    "        decoder3 = self.up3(decoder2)\n",
    "        decoder3 = self.right3(torch.cat([decoder3, encoder1], dim=1))\n",
    "\n",
    "        # Out\n",
    "        out = self.out(decoder3)\n",
    "        return torch.sigmoid(out)\n"
   ]
  },
  {
   "cell_type": "markdown",
   "id": "a7922a0b",
   "metadata": {},
   "source": [
    "### Preparing Data"
   ]
  },
  {
   "cell_type": "code",
   "execution_count": 137,
   "id": "b202a3a0",
   "metadata": {},
   "outputs": [],
   "source": [
    "def load_image_and_mask(dir):\n",
    "    image_path = next(dir.glob(\"*image*\"))\n",
    "    image = nib.load(image_path).get_fdata()\n",
    "    mask_paths = sorted(dir.glob(\"*mask*\"))\n",
    "    combined_mask = np.zeros_like(image)\n",
    "    for path in mask_paths:\n",
    "        mask = nib.load(path).get_fdata()\n",
    "        combined_mask = np.logical_or(combined_mask, mask)\n",
    "    return image, combined_mask.astype(np.float32)\n",
    "\n",
    "image, mask = load_image_and_mask(data_dir/\"BCBM-RadioGenomics-5-0\")"
   ]
  },
  {
   "cell_type": "code",
   "execution_count": 138,
   "id": "971d2127",
   "metadata": {},
   "outputs": [],
   "source": [
    "def largest_slice(mask):\n",
    "    slice_sums = mask.sum(axis=(0, 1))\n",
    "    z = int(np.argmax(slice_sums))\n",
    "    return z"
   ]
  },
  {
   "cell_type": "code",
   "execution_count": 139,
   "id": "229ca389",
   "metadata": {},
   "outputs": [],
   "source": [
    "from torch.utils.data import Dataset\n",
    "import torchvision.transforms.functional as TF\n",
    "\n",
    "class MRIDataset(Dataset):\n",
    "    def __init__(self, dirs, transform=None):\n",
    "        self.dirs = dirs\n",
    "        self.transform = transform\n",
    "    \n",
    "    def __len__(self):\n",
    "        return len(self.dirs)\n",
    "    \n",
    "    def __getitem__(self, idx):\n",
    "        dir = self.dirs[idx]\n",
    "        image, mask = load_image_and_mask(dir)\n",
    "        z = largest_slice(mask)\n",
    "\n",
    "        target_size = (256, 256)\n",
    "\n",
    "        image_slice = torch.tensor(image[:,:,z], dtype=torch.float32).unsqueeze(0)\n",
    "        image_slice = TF.resize(image_slice, target_size)\n",
    "        mask_slice = torch.tensor(mask[:,:,z], dtype=torch.float32).unsqueeze(0)\n",
    "        mask_slice = TF.resize(mask_slice, target_size)\n",
    "\n",
    "        if self.transform:\n",
    "            image_slice, mask_slice = self.transform(image_slice, mask_slice)\n",
    "        \n",
    "        return image_slice, mask_slice"
   ]
  },
  {
   "cell_type": "code",
   "execution_count": 140,
   "id": "0548131f",
   "metadata": {},
   "outputs": [],
   "source": [
    "from sklearn.model_selection import train_test_split\n",
    "\n",
    "# Split data into train and test\n",
    "dirs = sorted([p for p in data_dir.iterdir() if p.is_dir()])\n",
    "train_dirs, test_dirs = train_test_split(dirs, test_size=0.2, random_state=12)\n",
    "train_data = MRIDataset(train_dirs)\n",
    "test_data = MRIDataset(test_dirs)"
   ]
  },
  {
   "cell_type": "code",
   "execution_count": 141,
   "id": "1fe2d4de",
   "metadata": {},
   "outputs": [],
   "source": [
    "from torch.utils.data import DataLoader\n",
    "\n",
    "train_loader = DataLoader(train_data, batch_size=4, shuffle=True)\n",
    "test_loader = DataLoader(test_data, batch_size=4, shuffle=False)"
   ]
  },
  {
   "cell_type": "markdown",
   "id": "60f97da7",
   "metadata": {},
   "source": [
    "- Add dice loss to criterion"
   ]
  },
  {
   "cell_type": "code",
   "execution_count": null,
   "id": "3b7ffe37",
   "metadata": {},
   "outputs": [
    {
     "name": "stdout",
     "output_type": "stream",
     "text": [
      "Epoch: 0 Batch: 0 Loss: 1.037894606590271\n",
      "Epoch: 0 Batch: 1 Loss: 0.9916205406188965\n",
      "Epoch: 0 Batch: 2 Loss: 0.9600479006767273\n",
      "Epoch: 0 Batch: 3 Loss: 0.9467707872390747\n",
      "Epoch: 0 Batch: 4 Loss: 0.932676374912262\n",
      "Epoch: 0 Batch: 5 Loss: 0.928701639175415\n",
      "Epoch: 0 Batch: 6 Loss: 0.9420586228370667\n",
      "Epoch: 0 Batch: 7 Loss: 0.9501872658729553\n",
      "Epoch: 0 Batch: 8 Loss: 0.9351626038551331\n",
      "Epoch: 0 Batch: 9 Loss: 0.9371138215065002\n",
      "Epoch: 0 Batch: 10 Loss: 0.9313513040542603\n",
      "Epoch: 0 Batch: 11 Loss: 0.9127479195594788\n",
      "Epoch: 0 Batch: 12 Loss: 0.9254933595657349\n",
      "Epoch: 0 Batch: 13 Loss: 0.9179235696792603\n",
      "Epoch: 0 Batch: 14 Loss: 0.9290358424186707\n",
      "Epoch: 0 Batch: 15 Loss: 0.8793569803237915\n",
      "Epoch: 0 Batch: 16 Loss: 0.868272066116333\n",
      "Epoch: 0 Batch: 17 Loss: 0.8632814288139343\n",
      "Epoch: 0 Batch: 18 Loss: 0.8379778265953064\n",
      "Epoch: 0 Batch: 19 Loss: 0.777062177658081\n",
      "Epoch: 0 Batch: 20 Loss: 0.7357898354530334\n",
      "Epoch: 0 Batch: 21 Loss: 0.702095091342926\n",
      "Epoch: 0 Batch: 22 Loss: 0.6950366497039795\n"
     ]
    }
   ],
   "source": [
    "model = UNETModel().to(device)\n",
    "criterion = nn.BCEWithLogitsLoss()\n",
    "optimizer = torch.optim.Adam(model.parameters(), lr=1e-4)\n",
    "epochs = 5\n",
    "train_losses = [0] * epochs\n",
    "test_losses = [0] * epochs\n",
    "for i in range(epochs):\n",
    "    model.train()\n",
    "    train_loss_total = 0\n",
    "    for b, (img_train, mask_train) in enumerate(train_loader):\n",
    "        img_train = img_train.to(device)\n",
    "        mask_train = mask_train.to(device)\n",
    "\n",
    "        mask_pred = model(img_train)\n",
    "        loss = criterion(mask_pred, mask_train)\n",
    "        optimizer.zero_grad()\n",
    "        loss.backward()\n",
    "        optimizer.step()\n",
    "        train_loss_total += loss.item()\n",
    "        print(f'Epoch: {i} Batch: {b} Loss: {loss.item()}')\n",
    "    \n",
    "    train_losses[i] = train_loss_total / len(train_loader)\n",
    "\n",
    "    # testing\n",
    "    model.eval()\n",
    "    test_loss_total = 0\n",
    "    with torch.no_grad():\n",
    "        for b, (img_test, mask_test) in enumerate(test_loader):\n",
    "            img_test = img_train.to(device)\n",
    "            mask_test = mask_train.to(device)\n",
    "\n",
    "            mask_pred = model(img_test)\n",
    "            loss = criterion(mask_pred, mask_test)\n",
    "            test_loss_total += loss.item()\n",
    "            \n",
    "    test_losses[i] = test_loss_total / len(test_loader)"
   ]
  }
 ],
 "metadata": {
  "kernelspec": {
   "display_name": "Python 3",
   "language": "python",
   "name": "python3"
  },
  "language_info": {
   "codemirror_mode": {
    "name": "ipython",
    "version": 3
   },
   "file_extension": ".py",
   "mimetype": "text/x-python",
   "name": "python",
   "nbconvert_exporter": "python",
   "pygments_lexer": "ipython3",
   "version": "3.11.9"
  }
 },
 "nbformat": 4,
 "nbformat_minor": 5
}
